{
 "cells": [
  {
   "cell_type": "code",
   "execution_count": 59,
   "metadata": {
    "collapsed": true
   },
   "outputs": [],
   "source": [
    "import collections\n",
    "import glob\n",
    "from itertools import chain\n",
    "import numpy as np\n",
    "import tensorflow as tf"
   ]
  },
  {
   "cell_type": "code",
   "execution_count": 60,
   "metadata": {
    "collapsed": false
   },
   "outputs": [],
   "source": [
    "files = glob.glob('*.txt')\n",
    "\n",
    "words = []\n",
    "for f in files:\n",
    "    file = open(f)\n",
    "    words.append(file.read())\n",
    "    file.close()\n",
    "\n",
    "words = list(chain.from_iterable(words))\n",
    "words = ''.join(words)[:-1]\n",
    "sentences = words.split('\\n')"
   ]
  },
  {
   "cell_type": "code",
   "execution_count": 62,
   "metadata": {
    "collapsed": false
   },
   "outputs": [
    {
     "name": "stdout",
     "output_type": "stream",
     "text": [
      "Most common words (+UNK) [['UNK', 97415], ('the', 667723), ('and', 324431), ('a', 322940), ('of', 289409)]\n",
      "Sample data [[279, 174, 436, 7048, 46, 3381, 43, 3, 15, 16, 223, 1129, 72, 1707, 1166, 37, 1, 1308, 1603, 2144, 836, 4, 61, 39, 25, 53, 172, 9, 41, 117, 23, 453, 44, 99, 4, 1, 101, 89, 4, 178, 27, 2991, 8, 1, 4180, 2, 7048, 12, 104, 25, 1654, 399, 22, 2, 92, 1501, 364, 73, 304, 33, 61, 57, 9, 117, 23, 453, 1, 104, 70, 142, 64, 453, 44, 6, 3, 53, 9629, 34013, 9799, 9168, 1, 444, 6, 24, 269, 122, 14, 516, 35, 1237, 24, 12, 127, 72, 244, 322, 184, 86, 2, 273, 56, 3794, 4, 3, 17093, 4180, 26, 62, 13182, 721, 5, 29, 1705, 121, 7048, 414, 51, 70, 25, 69, 501, 1, 302, 95, 218, 4, 10, 3890, 7048, 704, 178, 30, 44, 9168, 12, 2991, 70, 25, 556, 134, 9168, 6, 2098, 5, 29, 1, 118, 17, 56, 2521, 15410, 40, 11272, 56, 1314, 129, 7, 13, 30, 9, 96, 78, 5, 386, 37, 1595, 7, 122, 34, 519, 8], [10, 6, 34, 464, 4, 134, 1, 2219, 4, 205, 105, 25, 1, 168, 3854, 2, 347, 39, 12, 64, 163, 276, 149, 129, 3, 589, 447, 4, 1, 92, 1163, 14102, 1993, 4, 1774, 21, 2, 1774, 4935, 35, 137, 251, 12992, 107, 209, 121, 11, 32, 25, 2173, 4, 114, 2, 114, 69, 87, 21, 1246, 17, 10, 28, 141, 65, 169, 652, 518, 31314, 40, 103, 169, 835, 6074, 16, 1774, 21, 40, 18430, 1489, 1, 2802, 1980, 2826, 40, 2380, 16, 1774, 4935, 2, 65, 1, 145, 781, 1774, 21, 12, 2242, 7103, 408, 610, 164, 10, 19, 16851, 31, 1, 2650, 2, 9, 139, 131, 1528, 47, 1, 2133, 942, 5702, 13, 400, 8, 10, 19, 2, 134, 1, 2133, 125, 24, 212, 285, 1, 2528, 168, 104, 37, 2014, 18354, 171, 19, 9, 137, 108, 17, 942, 5702, 46, 86, 392, 1, 2528, 168, 2040, 104, 2, 31, 222, 8, 2014, 26, 104, 1061, 61, 90, 7, 661, 15980, 435, 10, 6, 334, 950, 205, 1140, 39, 25, 3546, 127, 105, 5, 65, 2, 45, 20, 64, 180, 5, 65, 10, 28, 103, 7836, 308, 61, 6, 2393, 3, 10674, 940, 18, 46, 127, 114, 2, 3, 127, 225, 1, 62, 148, 11, 90, 10, 31, 30, 276, 149, 13, 3, 530, 515, 22, 1, 349, 1, 619, 13, 216, 2509, 61, 269, 493, 5, 231, 55, 16, 1, 486, 19, 388, 18, 23, 181]]\n"
     ]
    }
   ],
   "source": [
    "vocabulary_size = 40000\n",
    "\n",
    "def build_dataset(sentences):\n",
    "    words = ''.join(sentences).split()\n",
    "    count = [['UNK', -1]]\n",
    "    count.extend(collections.Counter(words).most_common(vocabulary_size - 1))\n",
    "    dictionary = dict()\n",
    "    for word, _ in count:\n",
    "        dictionary[word] = len(dictionary)\n",
    "    \n",
    "    unk_count = 0\n",
    "    sent_data = []\n",
    "    for sentence in sentences:\n",
    "        data = []\n",
    "        for word in sentence.split():\n",
    "            if word in dictionary:\n",
    "                index = dictionary[word]\n",
    "            else:\n",
    "                index = 0  # dictionary['UNK']\n",
    "                unk_count = unk_count + 1\n",
    "            data.append(index)\n",
    "        sent_data.append(data)\n",
    "    \n",
    "    count[0][1] = unk_count\n",
    "    reverse_dictionary = dict(zip(dictionary.values(), dictionary.keys())) \n",
    "    return sent_data, count, dictionary, reverse_dictionary\n",
    "\n",
    "data, count, dictionary, reverse_dictionary = build_dataset(sentences)\n",
    "print('Most common words (+UNK)', count[:5])\n",
    "print('Sample data', data[:2])\n",
    "# del words  # Hint to reduce memory."
   ]
  },
  {
   "cell_type": "code",
   "execution_count": 65,
   "metadata": {
    "collapsed": false
   },
   "outputs": [
    {
     "name": "stdout",
     "output_type": "stream",
     "text": [
      "11408957\n"
     ]
    }
   ],
   "source": [
    "skip_window = 3\n",
    "instances = 0\n",
    "for sentence  in data:\n",
    "    instances += len(sentence)-2*skip_window\n",
    "print(instances)    "
   ]
  },
  {
   "cell_type": "code",
   "execution_count": 66,
   "metadata": {
    "collapsed": true
   },
   "outputs": [],
   "source": [
    "context = np.zeros((instances,skip_window*2),dtype=np.int32)\n",
    "labels = np.zeros((instances,1),dtype=np.int32)\n",
    "doc = np.zeros((instances,1),dtype=np.int32)\n",
    "\n",
    "k = 0\n",
    "for doc_id, sentence  in enumerate(data):\n",
    "    for i in range(skip_window, len(sentence)-skip_window):\n",
    "        buffer = sentence[i-skip_window:i+skip_window+1]\n",
    "        del buffer[skip_window]\n",
    "        labels[k] = sentence[i]\n",
    "        context[k] = buffer\n",
    "        doc[k] = doc_id\n",
    "        k += 1\n",
    "        \n",
    "shuffle_idx = np.random.permutation(k)\n",
    "labels = labels[shuffle_idx]\n",
    "doc = doc[shuffle_idx]\n",
    "context = context[shuffle_idx]"
   ]
  },
  {
   "cell_type": "code",
   "execution_count": 116,
   "metadata": {
    "collapsed": false,
    "scrolled": true
   },
   "outputs": [],
   "source": [
    "batch_size = 256\n",
    "context_window = 2*skip_window\n",
    "embedding_size = 50 # Dimension of the embedding vector.\n",
    "softmax_width = embedding_size # +embedding_size2+embedding_size3\n",
    "num_sampled = 100 # Number of negative examples to sample.\n",
    "sum_ids = np.repeat(np.arange(batch_size),context_window)\n",
    "\n",
    "len_docs = len(data)\n",
    "\n",
    "graph = tf.Graph()\n",
    "\n",
    "with graph.as_default(): # , tf.device('/cpu:0')\n",
    "    # Input data.\n",
    "    train_word_dataset = tf.placeholder(tf.int32, shape=[batch_size*context_window])\n",
    "    train_doc_dataset = tf.placeholder(tf.int32, shape=[batch_size])\n",
    "    train_labels = tf.placeholder(tf.int32, shape=[batch_size, 1])\n",
    "\n",
    "    segment_ids = tf.constant(sum_ids, dtype=tf.int32)\n",
    "\n",
    "    word_embeddings = tf.Variable(tf.random_uniform([vocabulary_size,embedding_size],-1.0,1.0))\n",
    "    doc_embeddings = tf.Variable(tf.random_uniform([len_docs,embedding_size],-1.0,1.0))\n",
    "\n",
    "    softmax_weights = tf.Variable(tf.truncated_normal([vocabulary_size, softmax_width],\n",
    "                             stddev=1.0 / np.sqrt(embedding_size)))\n",
    "    softmax_biases = tf.Variable(tf.zeros([vocabulary_size]))\n",
    "\n",
    "    # Model.\n",
    "    # Look up embeddings for inputs.\n",
    "    embed_words = tf.segment_sum(tf.nn.embedding_lookup(word_embeddings, train_word_dataset),segment_ids)\n",
    "    embed_docs = tf.nn.embedding_lookup(doc_embeddings, train_doc_dataset)\n",
    "    embed = embed_words+embed_docs#+embed_hash+embed_users\n",
    "\n",
    "    # Compute the softmax loss, using a sample of the negative labels each time.\n",
    "    loss = tf.reduce_mean(tf.nn.nce_loss(softmax_weights, softmax_biases, embed,\n",
    "                                   train_labels, num_sampled, vocabulary_size))\n",
    "\n",
    "    # Optimizer.\n",
    "    optimizer = tf.train.AdagradOptimizer(0.5).minimize(loss)\n",
    "        \n",
    "    norm = tf.sqrt(tf.reduce_sum(tf.square(doc_embeddings), 1, keep_dims=True))\n",
    "    normalized_doc_embeddings = doc_embeddings / norm"
   ]
  },
  {
   "cell_type": "code",
   "execution_count": 117,
   "metadata": {
    "collapsed": true
   },
   "outputs": [],
   "source": [
    "############################\n",
    "# Chunk the data to be passed into the tensorflow Model\n",
    "###########################\n",
    "data_idx = 0\n",
    "def generate_batch(batch_size):\n",
    "    global data_idx\n",
    "\n",
    "    if data_idx+batch_size<len_docs:\n",
    "        batch_labels = labels[data_idx:data_idx+batch_size]\n",
    "        batch_doc_data = doc[data_idx:data_idx+batch_size]\n",
    "        batch_word_data = context[data_idx:data_idx+batch_size]\n",
    "        data_idx += batch_size\n",
    "    else:\n",
    "        overlay = batch_size - (len_docs-data_idx)\n",
    "        batch_labels = np.vstack([labels[data_idx:len_docs],labels[:overlay]])\n",
    "        batch_doc_data = np.vstack([doc[data_idx:len_docs],doc[:overlay]])\n",
    "        batch_word_data = np.vstack([context[data_idx:len_docs],context[:overlay]])\n",
    "        data_idx = overlay\n",
    "    batch_word_data = np.reshape(batch_word_data,(-1,1))\n",
    "\n",
    "    return batch_labels, batch_word_data, batch_doc_data"
   ]
  },
  {
   "cell_type": "code",
   "execution_count": 118,
   "metadata": {
    "collapsed": false
   },
   "outputs": [
    {
     "name": "stdout",
     "output_type": "stream",
     "text": [
      "Initialized\n",
      "Average loss at step 0: 426.157104\n",
      "Average loss at step 50000: 7.854996\n",
      "Average loss at step 100000: 0.641150\n",
      "Average loss at step 150000: 0.603961\n",
      "Average loss at step 200000: 0.594481\n",
      "Average loss at step 250000: 0.589963\n",
      "Average loss at step 300000: 0.586765\n",
      "Average loss at step 350000: 0.584712\n",
      "Average loss at step 400000: 0.583086\n",
      "Average loss at step 450000: 0.582070\n",
      "Average loss at step 500000: 0.581260\n",
      "Average loss at step 550000: 0.580287\n",
      "Average loss at step 600000: 0.579365\n",
      "Average loss at step 650000: 0.579081\n",
      "Average loss at step 700000: 0.578365\n",
      "Average loss at step 750000: 0.578061\n",
      "Average loss at step 800000: 0.577644\n",
      "Average loss at step 850000: 0.577144\n",
      "Average loss at step 900000: 0.576824\n",
      "Average loss at step 950000: 0.576325\n",
      "Average loss at step 1000000: 0.576282\n"
     ]
    }
   ],
   "source": [
    "num_steps = 1000001\n",
    "step_delta = int(num_steps/20)\n",
    "\n",
    "with tf.Session(graph=graph) as session:\n",
    "    tf.initialize_all_variables().run()\n",
    "    print('Initialized')\n",
    "    average_loss = 0\n",
    "    for step in range(num_steps):\n",
    "        batch_labels, batch_word_data, batch_doc_data\\\n",
    "        = generate_batch(batch_size)\n",
    "        feed_dict = {train_word_dataset : np.squeeze(batch_word_data),\n",
    "                     train_doc_dataset : np.squeeze(batch_doc_data),\n",
    "                     train_labels : batch_labels}\n",
    "        _, l = session.run([optimizer, loss], feed_dict=feed_dict)\n",
    "        average_loss += l\n",
    "        if step % step_delta == 0:\n",
    "            if step > 0:\n",
    "                average_loss = average_loss / step_delta\n",
    "            # The average loss is an estimate of the loss over the last 2000 batches.\n",
    "            print('Average loss at step %d: %f' % (step, average_loss))\n",
    "            average_loss = 0\n",
    "\n",
    "    # Get the weights to save for later\n",
    "#     final_doc_embeddings = normalized_doc_embeddings.eval()\n",
    "    final_word_embeddings = word_embeddings.eval()\n",
    "    final_word_embeddings_out = softmax_weights.eval()\n",
    "    final_doc_embeddings = normalized_doc_embeddings.eval()"
   ]
  },
  {
   "cell_type": "code",
   "execution_count": 119,
   "metadata": {
    "collapsed": false
   },
   "outputs": [
    {
     "name": "stdout",
     "output_type": "stream",
     "text": [
      "1.0\n",
      "0.539897\n",
      "0.535443\n",
      "0.523045\n"
     ]
    }
   ],
   "source": [
    "rand_doc = np.random.randint(len_docs)\n",
    "dist = final_doc_embeddings.dot(final_doc_embeddings[rand_doc][:,None])\n",
    "closest_doc = np.argsort(dist,axis=0)[-4:][::-1]\n",
    "\n",
    "for idx in closest_doc:\n",
    "    print(dist[idx][0][0])"
   ]
  },
  {
   "cell_type": "code",
   "execution_count": 120,
   "metadata": {
    "collapsed": false
   },
   "outputs": [
    {
     "data": {
      "text/plain": [
       "'i love this movie beautifully funny and utterly believable characters each scene richer and more wonderful than the last every aspect of this movie is filled with wit and humour and love and depth a complex and engrossing story too this movie is filled with love humour and intelligence totally great '"
      ]
     },
     "execution_count": 120,
     "metadata": {},
     "output_type": "execute_result"
    }
   ],
   "source": [
    "sentences[rand_doc]"
   ]
  },
  {
   "cell_type": "code",
   "execution_count": 121,
   "metadata": {
    "collapsed": false
   },
   "outputs": [
    {
     "data": {
      "text/plain": [
       "'for many the hit series was ten years of pitch black humour loaded with affectionate parodies of classic films and a hilarious assortment of over a hundred characters with instantly recognisable catchphrases few shows have survived transition from radio to tv to stage show to film but the league of gentlemen have achieved it with suitable aplomb the talented writer performers had initially envisioned a monty python style medieval adventure but as soon as writing began they soon realised that the characters they have lived with had become very real and deserved better with that the royston vasey folk realise their very existence is under threat as the writers decide to disregard the fictitious town and work on a th century romp instead with the exception of michael sheen playing much unseen league member jeremy dyson the league play pretty unlikeable caricatures of their real life personae as well as the familiar faces of tubbs i made a little brown fishy nightmare inducing sexual predator herr lipp butcher hilary briss and an unlikely hero irate businessman geoff tibbs new faces appear when the third reality appears it s here we are treated to charming and funny cameos from veteran actors and popular tv stars for many this will be a really enjoyable minutes apocalpse is not going to please everyone though working on this level of post modernism has been done a few times before now and may seem all too familiar to audiences raised on irony drenched teen successes kick started by the likes of wes craven having a new nightmare it also takes a lot of confidence in an audience to keep up with a high concept story so there are moments of exposition and dialogue that serve only to confirm what most in the audience already know comedy as a genre is formulaic but it s now unheard of for a british film not to fall back on the huge back catalogue of tv stars to fill short amounts of screen time it s also hard to believe the creators ever wanted their offspring killed off which is perhaps why some of the role reversal doesn t always quite hit the mark would hilary briss have wanted to try save royston vasey in the series however while the show s deliciously dark vein has almost all but disappeared but is arguably more accessible for it much will be said about the character development and efforts to humanise the likes of previously one joke incarnations like herr lipp it is here an impossible level of depth can be found along with a harsh streak of biting satire and throwaway put downs sentiment is there with a lump in the throat but not sugar coated thickly enough to intrude on the action the music is good performances exemplary and the animation is wonderfully seamless a nice throwback to terry gilliam and ray harryhausen s work in short there s a lot to like about the apocalypse like so many tv to film transfers it was never going to be easy finding the line between preaching to the converted and introducing the uninitiated to the league s slick and distinct voice but no matter what your preference is this last trip to the town which you ll never leave is oddly lined with hope and ultimately very very touching '"
      ]
     },
     "execution_count": 121,
     "metadata": {},
     "output_type": "execute_result"
    }
   ],
   "source": [
    "sentences[closest_doc[1][0]]"
   ]
  },
  {
   "cell_type": "code",
   "execution_count": 122,
   "metadata": {
    "collapsed": false
   },
   "outputs": [
    {
     "data": {
      "text/plain": [
       "'my wife and i watched this marvelous movie this evening because we will watch russian dolls tomorrow and the first is important to see before the second we both loved the spaniah apartment and will enjoy following some of the characters through the early years of their lives now in st pertersburg russia we both identified slightly with the rough framework of the story because we were students florence italy for us so the script was not completely foreign to our early lives our living was considerably different but as with this movie anytime you throw together young people passing through the same life hoops as any developed world people they will experience much the same life situations the collection of people and the personal difficulties that they faced were universals and therein lies the beauty of this film and probably its sequence that i will see tomorrow as i wrote the characters as well as these situations are familiar to all of us and therefore we can enjoy living their lives for awhile this must be one of the film s great strengths allowing the viewer to vicariously experience the emotional upheavals of the people involved and yet remain aloof the viewer can through that distance chuckle to themselves thinking i wouldn t have done something that dumb or i would have avoided that trap maybe that s why we go to movies '"
      ]
     },
     "execution_count": 122,
     "metadata": {},
     "output_type": "execute_result"
    }
   ],
   "source": [
    "sentences[closest_doc[2][0]]"
   ]
  },
  {
   "cell_type": "code",
   "execution_count": 123,
   "metadata": {
    "collapsed": false
   },
   "outputs": [
    {
     "data": {
      "text/plain": [
       "'despite myself i really kinda like this movie pauley shore is invariably laugh out loud funny and here is no exception he is just excellent at playing the weirdo with a heart of gold his performance in this although nothing out of the ordinary for him is so good it seems to lift other cast members performances perhaps this is because he s the kind of guy it s easy to bounce off of the clich s about country life in this movie are hilarious and the way shore s city boy crawl is so at odds with the way of life is funny too but it s not only he who s a fish out of water comedy also comes from the fact that to any ordinary person or people crawl is a freakish nightmare of a person that s why this movie works in such a great way we love crawl he s a breath of fresh air but we can also sympathise with the warners he is one hell of a culture shock although this movie is classic pauley shore so there s no great brain power needed to enjoy the movie enjoy it you do and there s even a never judge a book by it s cover type moral here somewhere not bad not bad at all '"
      ]
     },
     "execution_count": 123,
     "metadata": {},
     "output_type": "execute_result"
    }
   ],
   "source": [
    "sentences[closest_doc[3][0]]"
   ]
  },
  {
   "cell_type": "code",
   "execution_count": 124,
   "metadata": {
    "collapsed": false
   },
   "outputs": [
    {
     "data": {
      "image/png": "[encoded data removed]",
      "text/plain": [
       "<matplotlib.figure.Figure at 0x130f70fd0>"
      ]
     },
     "metadata": {},
     "output_type": "display_data"
    }
   ],
   "source": [
    "import matplotlib.pyplot as plt\n",
    "%matplotlib inline\n",
    "\n",
    "plt.hist(dist,100)\n",
    "plt.show()"
   ]
  },
  {
   "cell_type": "markdown",
   "metadata": {},
   "source": [
    "## Gensim Model"
   ]
  },
  {
   "cell_type": "code",
   "execution_count": 139,
   "metadata": {
    "collapsed": true
   },
   "outputs": [],
   "source": [
    "import gensim\n",
    "from gensim.models import Doc2Vec\n",
    "from multiprocessing import cpu_count\n",
    "\n",
    "cpus = cpu_count()"
   ]
  },
  {
   "cell_type": "code",
   "execution_count": 148,
   "metadata": {
    "collapsed": false
   },
   "outputs": [],
   "source": [
    "def read_corpus():\n",
    "    for i,sentence in enumerate(words.split('\\n')):\n",
    "        yield gensim.models.doc2vec.TaggedDocument(gensim.utils.simple_preprocess(sentence), [i])\n",
    "\n",
    "train_corpus = list(read_corpus())"
   ]
  },
  {
   "cell_type": "code",
   "execution_count": 152,
   "metadata": {
    "collapsed": true
   },
   "outputs": [],
   "source": [
    "model = Doc2Vec(dm=1, dm_concat=0, size=embedding_size, window=skip_window, \n",
    "                negative=num_sampled,hs=0, min_count=5, workers=cpus, iter=10)\n",
    "model.build_vocab(train_corpus)"
   ]
  },
  {
   "cell_type": "code",
   "execution_count": null,
   "metadata": {
    "collapsed": true
   },
   "outputs": [],
   "source": [
    "%%time\n",
    "model.train(train_corpus)"
   ]
  },
  {
   "cell_type": "code",
   "execution_count": null,
   "metadata": {
    "collapsed": true
   },
   "outputs": [],
   "source": []
  }
 ],
 "metadata": {
  "anaconda-cloud": {},
  "kernelspec": {
   "display_name": "Python [conda root]",
   "language": "python",
   "name": "conda-root-py"
  },
  "language_info": {
   "codemirror_mode": {
    "name": "ipython",
    "version": 3
   },
   "file_extension": ".py",
   "mimetype": "text/x-python",
   "name": "python",
   "nbconvert_exporter": "python",
   "pygments_lexer": "ipython3",
   "version": "3.5.2"
  },
  "latex_envs": {
   "bibliofile": "biblio.bib",
   "cite_by": "apalike",
   "current_citInitial": 1,
   "eqLabelWithNumbers": true,
   "eqNumInitial": 0
  }
 },
 "nbformat": 4,
 "nbformat_minor": 1
}
